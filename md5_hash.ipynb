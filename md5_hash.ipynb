{
  "nbformat": 4,
  "nbformat_minor": 0,
  "metadata": {
    "colab": {
      "provenance": [],
      "authorship_tag": "ABX9TyP8WmTySwHzshM0I+llRbtS",
      "include_colab_link": true
    },
    "kernelspec": {
      "name": "python3",
      "display_name": "Python 3"
    },
    "language_info": {
      "name": "python"
    }
  },
  "cells": [
    {
      "cell_type": "markdown",
      "metadata": {
        "id": "view-in-github",
        "colab_type": "text"
      },
      "source": [
        "<a href=\"https://colab.research.google.com/github/jbanday808/which-reality/blob/master/md5_hash.ipynb\" target=\"_parent\"><img src=\"https://colab.research.google.com/assets/colab-badge.svg\" alt=\"Open In Colab\"/></a>"
      ]
    },
    {
      "cell_type": "markdown",
      "source": [],
      "metadata": {
        "id": "OeeoWt_sKpTu"
      }
    },
    {
      "cell_type": "code",
      "source": [
        "import requests\n",
        "from bs4 import BeautifulSoup\n",
        "import hashlib\n",
        "url = \"http://165.227.231.233:32456/\"\n",
        "r = requests.session()\n",
        "resp = r.get(url)\n",
        "resp.text\n",
        "soup = BeautifulSoup(resp.text)\n",
        "string = soup.select('h3')[0].text\n",
        "string\n",
        "hashcode = hashlib.md5(string.encode('utf-8')).hexdigest()\n",
        "sent = r.post(url = url, data = {'hash': hashcode})\n",
        "sent.text"
      ],
      "metadata": {
        "id": "BjRkMKVKOsgC",
        "colab": {
          "base_uri": "https://localhost:8080/",
          "height": 87
        },
        "outputId": "45fd70b3-b080-4b02-d53f-a6a6a632b2ff"
      },
      "execution_count": 82,
      "outputs": [
        {
          "output_type": "execute_result",
          "data": {
            "text/plain": [
              "'<html>\\n<head>\\n<title>emdee five for life</title>\\n</head>\\n<body style=\"background-color:powderblue;\">\\n<h1 align=\\'center\\'>MD5 encrypt this string</h1><h3 align=\\'center\\'>IlG07synYw6RpaVLTd7o</h3><p align=\\'center\\'>HTB{N1c3_ScrIpt1nG_B0i!}</p><center><form action=\"\" method=\"post\">\\n<input type=\"text\" name=\"hash\" placeholder=\"MD5\" align=\\'center\\'></input>\\n</br>\\n<input type=\"submit\" value=\"Submit\"></input>\\n</form></center>\\n</body>\\n</html>\\n'"
            ],
            "application/vnd.google.colaboratory.intrinsic+json": {
              "type": "string"
            }
          },
          "metadata": {},
          "execution_count": 82
        }
      ]
    }
  ]
}